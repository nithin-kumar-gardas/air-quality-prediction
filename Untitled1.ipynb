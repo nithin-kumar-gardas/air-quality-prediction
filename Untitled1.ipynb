{
  "nbformat": 4,
  "nbformat_minor": 0,
  "metadata": {
    "colab": {
      "provenance": [],
      "authorship_tag": "ABX9TyOG+zGozEPoC//+gl6VeDWU",
      "include_colab_link": true
    },
    "kernelspec": {
      "name": "python3",
      "display_name": "Python 3"
    },
    "language_info": {
      "name": "python"
    }
  },
  "cells": [
    {
      "cell_type": "markdown",
      "metadata": {
        "id": "view-in-github",
        "colab_type": "text"
      },
      "source": [
        "<a href=\"https://colab.research.google.com/github/nithin-kumar-gardas/air-quality-prediction/blob/main/Untitled1.ipynb\" target=\"_parent\"><img src=\"https://colab.research.google.com/assets/colab-badge.svg\" alt=\"Open In Colab\"/></a>"
      ]
    },
    {
      "cell_type": "code",
      "source": [
        "import pandas as pd\n",
        "\n",
        "# Define your dataset\n",
        "data = {\n",
        "    'Date': ['2024-12-01', '2024-12-02', '2024-12-03', '2024-12-04', '2024-12-05',\n",
        "             '2024-12-06', '2024-12-07', '2024-12-08', '2024-12-09', '2024-12-10'],\n",
        "    'PM2.5 (µg/m³)': [12, 14, 13, 15, 14, 13, 12, 14, 13, 15],\n",
        "    'PM10 (µg/m³)': [20, 22, 21, 23, 22, 21, 20, 22, 21, 23],\n",
        "    'NO₂ (µg/m³)': [30, 32, 31, 33, 32, 31, 30, 32, 31, 33],\n",
        "    'Temperature (°C)': [7.8, 8.0, 7.5, 8.2, 7.9, 7.6, 7.8, 8.0, 7.5, 8.2],\n",
        "    'Humidity (%)': [88, 87, 89, 86, 88, 87, 88, 87, 89, 86],\n",
        "    'Wind Speed (km/h)': [15, 16, 14, 17, 15, 16, 15, 16, 14, 17]\n",
        "}\n",
        "\n",
        "# Convert to DataFrame\n",
        "df = pd.DataFrame(data)\n",
        "\n",
        "# Convert 'Date' column to datetime format\n",
        "df['Date'] = pd.to_datetime(df['Date'])\n",
        "\n",
        "# Display the data\n",
        "print(df)\n",
        "\n",
        "# Check for missing values\n",
        "print(df.isnull().sum())\n",
        "\n",
        "# Fill missing values with median (if any)\n",
        "df.fillna(df.median(), inplace=True)\n",
        "\n",
        "# Display the updated data\n",
        "print(df)"
      ],
      "metadata": {
        "colab": {
          "base_uri": "https://localhost:8080/"
        },
        "id": "tP5VY9saWG-l",
        "outputId": "ae8c12aa-4741-4460-d36b-60514178a7ce"
      },
      "execution_count": 2,
      "outputs": [
        {
          "output_type": "stream",
          "name": "stdout",
          "text": [
            "        Date  PM2.5 (µg/m³)  PM10 (µg/m³)  NO₂ (µg/m³)  Temperature (°C)  \\\n",
            "0 2024-12-01             12            20           30               7.8   \n",
            "1 2024-12-02             14            22           32               8.0   \n",
            "2 2024-12-03             13            21           31               7.5   \n",
            "3 2024-12-04             15            23           33               8.2   \n",
            "4 2024-12-05             14            22           32               7.9   \n",
            "5 2024-12-06             13            21           31               7.6   \n",
            "6 2024-12-07             12            20           30               7.8   \n",
            "7 2024-12-08             14            22           32               8.0   \n",
            "8 2024-12-09             13            21           31               7.5   \n",
            "9 2024-12-10             15            23           33               8.2   \n",
            "\n",
            "   Humidity (%)  Wind Speed (km/h)  \n",
            "0            88                 15  \n",
            "1            87                 16  \n",
            "2            89                 14  \n",
            "3            86                 17  \n",
            "4            88                 15  \n",
            "5            87                 16  \n",
            "6            88                 15  \n",
            "7            87                 16  \n",
            "8            89                 14  \n",
            "9            86                 17  \n",
            "Date                 0\n",
            "PM2.5 (µg/m³)        0\n",
            "PM10 (µg/m³)         0\n",
            "NO₂ (µg/m³)          0\n",
            "Temperature (°C)     0\n",
            "Humidity (%)         0\n",
            "Wind Speed (km/h)    0\n",
            "dtype: int64\n",
            "        Date  PM2.5 (µg/m³)  PM10 (µg/m³)  NO₂ (µg/m³)  Temperature (°C)  \\\n",
            "0 2024-12-01             12            20           30               7.8   \n",
            "1 2024-12-02             14            22           32               8.0   \n",
            "2 2024-12-03             13            21           31               7.5   \n",
            "3 2024-12-04             15            23           33               8.2   \n",
            "4 2024-12-05             14            22           32               7.9   \n",
            "5 2024-12-06             13            21           31               7.6   \n",
            "6 2024-12-07             12            20           30               7.8   \n",
            "7 2024-12-08             14            22           32               8.0   \n",
            "8 2024-12-09             13            21           31               7.5   \n",
            "9 2024-12-10             15            23           33               8.2   \n",
            "\n",
            "   Humidity (%)  Wind Speed (km/h)  \n",
            "0            88                 15  \n",
            "1            87                 16  \n",
            "2            89                 14  \n",
            "3            86                 17  \n",
            "4            88                 15  \n",
            "5            87                 16  \n",
            "6            88                 15  \n",
            "7            87                 16  \n",
            "8            89                 14  \n",
            "9            86                 17  \n"
          ]
        }
      ]
    },
    {
      "cell_type": "code",
      "source": [
        "# Check for missing values\n",
        "print(df.isnull().sum())\n",
        "\n",
        "# Fill missing values with median (if any)\n",
        "df.fillna(df.median(), inplace=True)"
      ],
      "metadata": {
        "colab": {
          "base_uri": "https://localhost:8080/"
        },
        "id": "QKx_tQEJW6yH",
        "outputId": "e05198e2-44ca-4ab9-d18b-b24c24cfedef"
      },
      "execution_count": 3,
      "outputs": [
        {
          "output_type": "stream",
          "name": "stdout",
          "text": [
            "Date                 0\n",
            "PM2.5 (µg/m³)        0\n",
            "PM10 (µg/m³)         0\n",
            "NO₂ (µg/m³)          0\n",
            "Temperature (°C)     0\n",
            "Humidity (%)         0\n",
            "Wind Speed (km/h)    0\n",
            "dtype: int64\n"
          ]
        }
      ]
    },
    {
      "cell_type": "code",
      "source": [
        "from sklearn.preprocessing import MinMaxScaler\n",
        "\n",
        "# Initialize scaler\n",
        "scaler = MinMaxScaler()\n",
        "\n",
        "# Select columns to normalize\n",
        "columns_to_normalize = ['PM2.5 (µg/m³)', 'PM10 (µg/m³)', 'NO₂ (µg/m³)',\n",
        "                        'Temperature (°C)', 'Humidity (%)', 'Wind Speed (km/h)']\n",
        "\n",
        "# Apply normalization\n",
        "df[columns_to_normalize] = scaler.fit_transform(df[columns_to_normalize])\n",
        "\n",
        "# Display normalized data\n",
        "print(df)"
      ],
      "metadata": {
        "colab": {
          "base_uri": "https://localhost:8080/"
        },
        "id": "MUBHi55oW9wl",
        "outputId": "5d5983af-8262-444a-c125-222ae648100f"
      },
      "execution_count": 4,
      "outputs": [
        {
          "output_type": "stream",
          "name": "stdout",
          "text": [
            "        Date  PM2.5 (µg/m³)  PM10 (µg/m³)  NO₂ (µg/m³)  Temperature (°C)  \\\n",
            "0 2024-12-01       0.000000      0.000000     0.000000          0.428571   \n",
            "1 2024-12-02       0.666667      0.666667     0.666667          0.714286   \n",
            "2 2024-12-03       0.333333      0.333333     0.333333          0.000000   \n",
            "3 2024-12-04       1.000000      1.000000     1.000000          1.000000   \n",
            "4 2024-12-05       0.666667      0.666667     0.666667          0.571429   \n",
            "5 2024-12-06       0.333333      0.333333     0.333333          0.142857   \n",
            "6 2024-12-07       0.000000      0.000000     0.000000          0.428571   \n",
            "7 2024-12-08       0.666667      0.666667     0.666667          0.714286   \n",
            "8 2024-12-09       0.333333      0.333333     0.333333          0.000000   \n",
            "9 2024-12-10       1.000000      1.000000     1.000000          1.000000   \n",
            "\n",
            "   Humidity (%)  Wind Speed (km/h)  \n",
            "0      0.666667           0.333333  \n",
            "1      0.333333           0.666667  \n",
            "2      1.000000           0.000000  \n",
            "3      0.000000           1.000000  \n",
            "4      0.666667           0.333333  \n",
            "5      0.333333           0.666667  \n",
            "6      0.666667           0.333333  \n",
            "7      0.333333           0.666667  \n",
            "8      1.000000           0.000000  \n",
            "9      0.000000           1.000000  \n"
          ]
        }
      ]
    },
    {
      "cell_type": "code",
      "source": [
        "# Extract time-based features\n",
        "df['Day'] = df['Date'].dt.day\n",
        "df['Month'] = df['Date'].dt.month\n",
        "df['Year'] = df['Date'].dt.year\n",
        "\n",
        "# Display updated DataFrame\n",
        "print(df)"
      ],
      "metadata": {
        "colab": {
          "base_uri": "https://localhost:8080/"
        },
        "id": "5EpearoAXKom",
        "outputId": "9072d65d-423e-4fe8-f6f7-2ff1d3ec349d"
      },
      "execution_count": 5,
      "outputs": [
        {
          "output_type": "stream",
          "name": "stdout",
          "text": [
            "        Date  PM2.5 (µg/m³)  PM10 (µg/m³)  NO₂ (µg/m³)  Temperature (°C)  \\\n",
            "0 2024-12-01       0.000000      0.000000     0.000000          0.428571   \n",
            "1 2024-12-02       0.666667      0.666667     0.666667          0.714286   \n",
            "2 2024-12-03       0.333333      0.333333     0.333333          0.000000   \n",
            "3 2024-12-04       1.000000      1.000000     1.000000          1.000000   \n",
            "4 2024-12-05       0.666667      0.666667     0.666667          0.571429   \n",
            "5 2024-12-06       0.333333      0.333333     0.333333          0.142857   \n",
            "6 2024-12-07       0.000000      0.000000     0.000000          0.428571   \n",
            "7 2024-12-08       0.666667      0.666667     0.666667          0.714286   \n",
            "8 2024-12-09       0.333333      0.333333     0.333333          0.000000   \n",
            "9 2024-12-10       1.000000      1.000000     1.000000          1.000000   \n",
            "\n",
            "   Humidity (%)  Wind Speed (km/h)  Day  Month  Year  \n",
            "0      0.666667           0.333333    1     12  2024  \n",
            "1      0.333333           0.666667    2     12  2024  \n",
            "2      1.000000           0.000000    3     12  2024  \n",
            "3      0.000000           1.000000    4     12  2024  \n",
            "4      0.666667           0.333333    5     12  2024  \n",
            "5      0.333333           0.666667    6     12  2024  \n",
            "6      0.666667           0.333333    7     12  2024  \n",
            "7      0.333333           0.666667    8     12  2024  \n",
            "8      1.000000           0.000000    9     12  2024  \n",
            "9      0.000000           1.000000   10     12  2024  \n"
          ]
        }
      ]
    },
    {
      "cell_type": "code",
      "source": [
        "import pandas as pd\n",
        "\n",
        "# Example data\n",
        "data = {\n",
        "    'Date': ['2024-12-01', '2024-12-02', '2024-12-03', '2024-12-04', '2024-12-05'],\n",
        "    'PM2.5': [12, 14, 13, 15, 14],\n",
        "    'PM10': [20, 22, 21, 23, 22],\n",
        "    'NO₂': [30, 32, 31, 33, 32],\n",
        "    'Temperature': [7.8, 8.0, 7.5, 8.2, 7.9],\n",
        "    'Humidity': [88, 87, 89, 86, 88],\n",
        "    'Wind Speed': [15, 16, 14, 17, 15]\n",
        "}\n",
        "\n",
        "# Create DataFrame\n",
        "df = pd.DataFrame(data)\n",
        "\n",
        "# Convert 'Date' column to datetime\n",
        "df['Date'] = pd.to_datetime(df['Date'])\n",
        "\n",
        "# Extract time-based features\n",
        "df['Day'] = df['Date'].dt.day\n",
        "df['Month'] = df['Date'].dt.month\n",
        "df['Year'] = df['Date'].dt.year\n",
        "\n",
        "print(df)"
      ],
      "metadata": {
        "colab": {
          "base_uri": "https://localhost:8080/"
        },
        "id": "P337_1x9jFev",
        "outputId": "763c66a7-13f1-43b2-a455-728bfa96f61e"
      },
      "execution_count": 8,
      "outputs": [
        {
          "output_type": "stream",
          "name": "stdout",
          "text": [
            "        Date  PM2.5  PM10  NO₂  Temperature  Humidity  Wind Speed  Day  Month  \\\n",
            "0 2024-12-01     12    20   30          7.8        88          15    1     12   \n",
            "1 2024-12-02     14    22   32          8.0        87          16    2     12   \n",
            "2 2024-12-03     13    21   31          7.5        89          14    3     12   \n",
            "3 2024-12-04     15    23   33          8.2        86          17    4     12   \n",
            "4 2024-12-05     14    22   32          7.9        88          15    5     12   \n",
            "\n",
            "   Year  \n",
            "0  2024  \n",
            "1  2024  \n",
            "2  2024  \n",
            "3  2024  \n",
            "4  2024  \n"
          ]
        }
      ]
    },
    {
      "cell_type": "code",
      "source": [
        "import pandas as pd\n",
        "\n",
        "# Example data\n",
        "data = {\n",
        "    'Date': ['2024-12-01', '2024-12-02', '2024-12-03', '2024-12-04', '2024-12-05'],\n",
        "    'PM2.5': [12, 14, 13, 15, 14],\n",
        "    'PM10': [20, 22, 21, 23, 22],\n",
        "    'NO₂': [30, 32, 31, 33, 32]\n",
        "}\n",
        "\n",
        "# Convert data to a pandas DataFrame\n",
        "df = pd.DataFrame(data)\n",
        "\n",
        "# Convert 'Date' column to datetime\n",
        "df['Date'] = pd.to_datetime(df['Date'])\n",
        "\n",
        "# Add rolling averages\n",
        "df['PM2.5_Rolling'] = df['PM2.5'].rolling(window=3).mean()\n",
        "df['PM10_Rolling'] = df['PM10'].rolling(window=3).mean()\n",
        "df['NO₂_Rolling'] = df['NO₂'].rolling(window=3).mean()\n",
        "\n",
        "# Display the DataFrame\n",
        "print(df)"
      ],
      "metadata": {
        "colab": {
          "base_uri": "https://localhost:8080/"
        },
        "id": "kv7G4mn9jVY7",
        "outputId": "f90a4072-453e-46fc-eb12-496bb4471496"
      },
      "execution_count": 10,
      "outputs": [
        {
          "output_type": "stream",
          "name": "stdout",
          "text": [
            "        Date  PM2.5  PM10  NO₂  PM2.5_Rolling  PM10_Rolling  NO₂_Rolling\n",
            "0 2024-12-01     12    20   30            NaN           NaN          NaN\n",
            "1 2024-12-02     14    22   32            NaN           NaN          NaN\n",
            "2 2024-12-03     13    21   31           13.0          21.0         31.0\n",
            "3 2024-12-04     15    23   33           14.0          22.0         32.0\n",
            "4 2024-12-05     14    22   32           14.0          22.0         32.0\n"
          ]
        }
      ]
    }
  ]
}